{
 "cells": [
  {
   "cell_type": "markdown",
   "metadata": {},
   "source": [
    "# Electricity Market & Sector Coupling Project"
   ]
  },
  {
   "cell_type": "markdown",
   "metadata": {},
   "source": [
    "### Calculation of the Levelized Cost of Hydrogen Production from Natural Gas Steam Methane Reformer and Water Elecrolyser - Germany"
   ]
  },
  {
   "cell_type": "code",
   "execution_count": 146,
   "metadata": {},
   "outputs": [],
   "source": [
    "# importing libraries\n",
    "\n",
    "import numpy as np\n",
    "import pandas as pd\n",
    "import matplotlib.pyplot as plt\n",
    "import seaborn as sns\n",
    "from sklearn.linear_model import LinearRegression"
   ]
  },
  {
   "cell_type": "markdown",
   "metadata": {},
   "source": [
    "#### LCOHs and CO2 Emission Calculation"
   ]
  },
  {
   "cell_type": "code",
   "execution_count": 149,
   "metadata": {},
   "outputs": [],
   "source": [
    "def calculate_lcoh_SMR(q_H2, FLH, r, t, P_NG, Eff_SMR, SIC_SMR, P_CO2):\n",
    "    \"\"\"Calculates the Levelized Cost of Hydrogen (LCOH) for Steam Methane Reforming (SMR).\n",
    "\n",
    "    Args:\n",
    "        q_H2: Amount of Hydrogen Required by 2030, kWh\n",
    "        FLH: Full Load Hours, hr\n",
    "        r: Discount Rate\n",
    "        t: Lifetime, yr\n",
    "        P_NG: Natural Gas Price, €/kWh\n",
    "        Eff_SMR: Efficiency of SMR\n",
    "        SIC_SMR: Specific Investment Cost of SMR, €/kW\n",
    "        P_CO2: CO2 Tax, €/kgCO2\n",
    "\n",
    "    Returns:\n",
    "        LCOH_SMR: Levelized Cost of Hydrogen from SMR, €/kWh\n",
    "    \"\"\"\n",
    "\n",
    "    CRF = (r*(1+r)**t)/(((1+r)**t)-1)  # Capital Recovery Factor\n",
    "\n",
    "    IC = q_H2/FLH  # Installed Capacity, kW\n",
    "    ko_SMR = SIC_SMR * IC  # Total Capital Cost, €/a\n",
    "    OM_SMR = 0.05 * ko_SMR  # Operation & Maintenance Cost, €/a\n",
    "    g_SMR = ko_SMR * CRF  # Annual Capital Cost, €/a\n",
    "\n",
    "    mc_SMR = (P_NG / Eff_SMR) + (P_CO2 * EMF_NG / Eff_SMR)  # Marginal Cost, €/kWh\n",
    "    LCOH_SMR = ((OM_SMR + g_SMR)/q_H2) + mc_SMR  # Levelized Cost of Hydrogen, €/kWh\n",
    "\n",
    "    return LCOH_SMR\n",
    "\n",
    "def calculate_lcoh_WE(q_H2, FLH, r, t, P_Elect, Eff_WE, SIC_WE):\n",
    "    \"\"\"Calculates the Levelized Cost of Hydrogen (LCOH) for Water Electrolysis (WE).\n",
    "\n",
    "    Args:\n",
    "        q_H2: Amount of Hydrogen Required by 2030, kWh\n",
    "        FLH: Full Load Hours, hr\n",
    "        r: Discount Rate\n",
    "        t: Lifetime, yr\n",
    "        P_Elect: Electricity Price, €/kWh\n",
    "        Eff_WE: Efficiency of Water Electrolysis\n",
    "        SIC_WE: Specific Investment Cost of Water Electrolysis, €/kW\n",
    "\n",
    "    Returns:\n",
    "        LCOH_WE: Levelized Cost of Hydrogen from Water Electrolysis, €/kWh\n",
    "    \"\"\"\n",
    "\n",
    "    CRF = (r*(1+r)**t)/(((1+r)**t)-1)  # Capital Recovery Factor\n",
    "\n",
    "    IC = q_H2/FLH  # Installed Capacity, kW\n",
    "    ko_WE = SIC_WE * IC  # Total Capital Cost, €/a\n",
    "    OM_WE = 0.03 * ko_WE  # Operation & Maintenance Cost, €/a\n",
    "    g_WE = ko_WE * CRF  # Annual Capital Cost, €/a\n",
    "\n",
    "    mc_WE = P_Elect / Eff_WE  # Marginal Cost, €/kWh\n",
    "    LCOH_WE = ((OM_WE + g_WE)/q_H2) + mc_WE  # Levelized Cost of Hydrogen, €/kWh\n",
    "    \n",
    "    return LCOH_WE\n",
    "\n",
    "\n",
    "def calculate_co2_emissions(q_H2, Eff_SMR, EMF_NG, Eff_WE, EMF_Elec_mix):\n",
    "    \"\"\"Calculates CO2 emissions for Steam Methane Reforming (SMR) and Water Electrolysis (WE).\n",
    "\n",
    "    Args:\n",
    "        q_H2: Amount of Hydrogen Required by 2030, kWh\n",
    "        Eff_SMR: Efficiency of SMR\n",
    "        EMF_NG: CO2 Emission Factor of Natural Gas, kgCO2/kWh\n",
    "        Eff_WE: Efficiency of Water Electrolysis\n",
    "        EMF_Elec_mix: CO2 Emission Factor of the Electricity Mix\n",
    "\n",
    "    Returns:\n",
    "        CO2_SMR: CO2 Emissions from SMR, MntCO2\n",
    "        CO2_WE: CO2 Emissions from Water Electrolysis, MntCO2\n",
    "    \"\"\"\n",
    "\n",
    "    CO2_SMR = EMF_NG / Eff_SMR * q_H2\n",
    "    CO2_WE = EMF_Elec_mix / Eff_WE * q_H2\n",
    "\n",
    "    return CO2_SMR, CO2_WE\n"
   ]
  },
  {
   "cell_type": "code",
   "execution_count": 151,
   "metadata": {},
   "outputs": [
    {
     "name": "stdout",
     "output_type": "stream",
     "text": [
      "LCOH from SMR: 7.6 cent€/kWh\n",
      "LCOH from WE: 29.9 cent€/kWh\n",
      "Amount of CO2 Emissions from SMR is 5.8 MntCO2\n",
      "Amount of CO2 Emissions from Water Electrolyzer is 11.5 MntCO2\n"
     ]
    }
   ],
   "source": [
    "# Define variables\n",
    "q_H2 = 2e10  # Production rate of hydrogen from SMR in kgH2/s\n",
    "FLH = 4000  # Full load hours per year\n",
    "r = 0.08  # Discount rate\n",
    "t = 10  # Project lifetime in years\n",
    "P_NG = 0.035  # Price of natural gas in €/m³\n",
    "Eff_SMR = 0.7  # Efficiency of SMR\n",
    "SIC_SMR = 530  # Specific investment cost of SMR in €/kgH2\n",
    "P_Elect = 0.178  # Price of electricity in €/kWh\n",
    "Eff_WE = 0.7  # Efficiency of water electrolysis\n",
    "SIC_WE = 1000  # Specific investment cost of WE in €/kgH2\n",
    "EMF_NG = 0.202  # Emission factor of natural gas in kgCO2/m³\n",
    "EMF_Elec_mix = 0.401  # Emission factor of electricity mix in gCO2/kWh\n",
    "P_CO2 = 0\n",
    "\n",
    "\n",
    "# Call the functions\n",
    "LCOH_SMR = calculate_lcoh_SMR(q_H2, FLH, r, t, P_NG, Eff_SMR, SIC_SMR, P_CO2)\n",
    "LCOH_WE = calculate_lcoh_WE(q_H2, FLH, r, t, P_Elect, Eff_WE, SIC_WE)\n",
    "CO2_emissions_SMR, CO2_emissions_WE = calculate_co2_emissions(q_H2, Eff_SMR, EMF_NG, Eff_WE, EMF_Elec_mix)\n",
    "\n",
    "# Print the results\n",
    "print(\"LCOH from SMR:\", round(LCOH_SMR * 100, 1), \"cent€/kWh\")\n",
    "print(\"LCOH from WE:\", round(LCOH_WE * 100, 1), \"cent€/kWh\")\n",
    "print(f\"Amount of CO2 Emissions from SMR is {round(CO2_emissions_SMR/1e9, 1)} MntCO2\")\n",
    "print(f\"Amount of CO2 Emissions from Water Electrolyzer is {round(CO2_emissions_WE/1e9, 1)} MntCO2\")"
   ]
  },
  {
   "cell_type": "markdown",
   "metadata": {},
   "source": [
    "#### CO2 Tax Calculation"
   ]
  },
  {
   "cell_type": "code",
   "execution_count": 154,
   "metadata": {},
   "outputs": [],
   "source": [
    "def calculate_co2_tax(q_H2, FLH, r, t, P_NG, Eff_SMR, SIC_SMR, P_Elect, Eff_WE, SIC_WE, EMF_NG, EMF_Elec_mix):\n",
    "    \"\"\"Calculates the minimum CO2 tax required for WE to be more cost-effective than SMR.\"\"\"\n",
    "\n",
    "    P_CO2 = 0\n",
    "    while True:\n",
    "        if LCOH_SMR >= LCOH_WE:\n",
    "            break\n",
    "        P_CO2 += 0.025\n",
    "        return P_CO2"
   ]
  },
  {
   "cell_type": "code",
   "execution_count": 156,
   "metadata": {},
   "outputs": [
    {
     "name": "stdout",
     "output_type": "stream",
     "text": [
      "Carbon Tax on SMR: 2.5 cent€/kgCO2\n"
     ]
    }
   ],
   "source": [
    "P_CO2_min = calculate_co2_tax(q_H2, FLH, r, t, P_NG, Eff_SMR, SIC_SMR, P_Elect, Eff_WE, SIC_WE, EMF_NG, EMF_Elec_mix)\n",
    "\n",
    "# Print the result\n",
    "print(\"Carbon Tax on SMR:\", round(P_CO2_min * 100, 3), \"cent€/kgCO2\")"
   ]
  },
  {
   "cell_type": "markdown",
   "metadata": {},
   "source": [
    "### Net Public Electricity Generation from Power Plants in Germany in 2019"
   ]
  },
  {
   "cell_type": "code",
   "execution_count": 175,
   "metadata": {},
   "outputs": [
    {
     "name": "stdout",
     "output_type": "stream",
     "text": [
      " year  co2_emission_factor  renewable_share\n",
      " 2017                0.485            0.382\n",
      " 2018                0.468            0.406\n",
      " 2019                0.401            0.460\n",
      "Predicted share of renewables for EMF 0.202: 63.89%\n"
     ]
    }
   ],
   "source": [
    "data = {\n",
    "    \"year\": [2017, 2018, 2019],\n",
    "    \"co2_emission_factor\": [0.485, 0.468, 0.401],\n",
    "    \"renewable_share\": [0.382, 0.406, 0.460]\n",
    "}\n",
    "\n",
    "# Create a DataFrame with descriptive column names\n",
    "df = pd.DataFrame(data)\n",
    "print(df.to_string(index=False))  # Clear and concise output\n",
    "\n",
    "# Extract and reshape features and target\n",
    "X = df[[\"co2_emission_factor\"]].values.reshape(-1, 1)\n",
    "y = df[\"renewable_share\"]\n",
    "\n",
    "# Train the linear regression model\n",
    "model = LinearRegression()\n",
    "model.fit(X, y)\n",
    "\n",
    "# Predict the renewable share for a given CO2 emission factor\n",
    "predicted_share = model.predict([[0.202]])[0]\n",
    "print(f\"Predicted share of renewables for EMF 0.202: {predicted_share:.2%}\")"
   ]
  },
  {
   "cell_type": "code",
   "execution_count": 181,
   "metadata": {},
   "outputs": [
    {
     "data": {
      "image/png": "[encoded data removed]",
      "text/plain": [
       "<Figure size 640x480 with 1 Axes>"
      ]
     },
     "metadata": {},
     "output_type": "display_data"
    }
   ],
   "source": [
    "# Plot data and prediction line\n",
    "plt.scatter(X, y, color=\"blue\", label=\"Actual Share\")\n",
    "\n",
    "# Predicted point (0.202, predicted_share)\n",
    "plt.plot([0.202], [predicted_share], marker=\"o\", color=\"red\", label=\"Predicted Share\")\n",
    "\n",
    "# Create a line representing the model's prediction across the entire range of CO2 emission factors\n",
    "X_line = np.linspace(0.202, max(X), 100)  # Start from the predicted point's x-coordinate\n",
    "y_line = model.predict(X_line.reshape(-1, 1))  # Predict renewable share for each point\n",
    "plt.plot(X_line, y_line, color=\"green\", linestyle=\"--\", label=\"Prediction Line\")\n",
    "\n",
    "# Add labels and title\n",
    "plt.xlabel(\"CO2 Emission Factor\")\n",
    "plt.ylabel(\"Renewables Share\")\n",
    "plt.title(\"Renewables Share vs. CO2 Emission Factor\")\n",
    "\n",
    "# Add legend\n",
    "plt.legend()\n",
    "\n",
    "# Show the plot\n",
    "plt.show()"
   ]
  },
  {
   "cell_type": "code",
   "execution_count": null,
   "metadata": {},
   "outputs": [],
   "source": []
  }
 ],
 "metadata": {
  "kernelspec": {
   "display_name": "Python 3 (ipykernel)",
   "language": "python",
   "name": "python3"
  },
  "language_info": {
   "codemirror_mode": {
    "name": "ipython",
    "version": 3
   },
   "file_extension": ".py",
   "mimetype": "text/x-python",
   "name": "python",
   "nbconvert_exporter": "python",
   "pygments_lexer": "ipython3",
   "version": "3.11.7"
  }
 },
 "nbformat": 4,
 "nbformat_minor": 4
}
